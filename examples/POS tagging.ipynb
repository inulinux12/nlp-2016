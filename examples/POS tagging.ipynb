{
 "cells": [
  {
   "cell_type": "markdown",
   "metadata": {},
   "source": [
    "# POS Tagging"
   ]
  },
  {
   "cell_type": "code",
   "execution_count": 18,
   "metadata": {
    "collapsed": false
   },
   "outputs": [],
   "source": [
    "from __future__ import print_function\n",
    "import nltk\n",
    "import sys\n",
    "from nltk.corpus import brown"
   ]
  },
  {
   "cell_type": "code",
   "execution_count": 2,
   "metadata": {
    "collapsed": false
   },
   "outputs": [
    {
     "name": "stdout",
     "output_type": "stream",
     "text": [
      "[[(u'The', u'AT'), (u'Fulton', u'NP-TL'), (u'County', u'NN-TL'), (u'Grand', u'JJ-TL'), (u'Jury', u'NN-TL'), (u'said', u'VBD'), (u'Friday', u'NR'), (u'an', u'AT'), (u'investigation', u'NN'), (u'of', u'IN'), (u\"Atlanta's\", u'NP$'), (u'recent', u'JJ'), (u'primary', u'NN'), (u'election', u'NN'), (u'produced', u'VBD'), (u'``', u'``'), (u'no', u'AT'), (u'evidence', u'NN'), (u\"''\", u\"''\"), (u'that', u'CS'), (u'any', u'DTI'), (u'irregularities', u'NNS'), (u'took', u'VBD'), (u'place', u'NN'), (u'.', u'.')], [(u'The', u'AT'), (u'jury', u'NN'), (u'further', u'RBR'), (u'said', u'VBD'), (u'in', u'IN'), (u'term-end', u'NN'), (u'presentments', u'NNS'), (u'that', u'CS'), (u'the', u'AT'), (u'City', u'NN-TL'), (u'Executive', u'JJ-TL'), (u'Committee', u'NN-TL'), (u',', u','), (u'which', u'WDT'), (u'had', u'HVD'), (u'over-all', u'JJ'), (u'charge', u'NN'), (u'of', u'IN'), (u'the', u'AT'), (u'election', u'NN'), (u',', u','), (u'``', u'``'), (u'deserves', u'VBZ'), (u'the', u'AT'), (u'praise', u'NN'), (u'and', u'CC'), (u'thanks', u'NNS'), (u'of', u'IN'), (u'the', u'AT'), (u'City', u'NN-TL'), (u'of', u'IN-TL'), (u'Atlanta', u'NP-TL'), (u\"''\", u\"''\"), (u'for', u'IN'), (u'the', u'AT'), (u'manner', u'NN'), (u'in', u'IN'), (u'which', u'WDT'), (u'the', u'AT'), (u'election', u'NN'), (u'was', u'BEDZ'), (u'conducted', u'VBN'), (u'.', u'.')], ...]\n",
      "[(u'The', u'AT'), (u'Fulton', u'NP-TL'), ...]\n"
     ]
    }
   ],
   "source": [
    "brown_tag_words = []\n",
    "print(brown.tagged_sents())\n",
    "print(brown.tagged_words())"
   ]
  },
  {
   "cell_type": "code",
   "execution_count": 3,
   "metadata": {
    "collapsed": true
   },
   "outputs": [],
   "source": [
    "for sent in brown.tagged_sents():\n",
    "    brown_tag_words.append((\"START\", \"START\"))\n",
    "    brown_tag_words.extend([(tag[:2], word) for (word, tag) in sent])\n",
    "    brown_tag_words.append((\"END\", \"END\"))"
   ]
  },
  {
   "cell_type": "code",
   "execution_count": 4,
   "metadata": {
    "collapsed": false,
    "scrolled": true
   },
   "outputs": [
    {
     "data": {
      "text/plain": [
       "[('START', 'START'),\n",
       " (u'AT', u'The'),\n",
       " (u'NP', u'Fulton'),\n",
       " (u'NN', u'County'),\n",
       " (u'JJ', u'Grand'),\n",
       " (u'NN', u'Jury'),\n",
       " (u'VB', u'said'),\n",
       " (u'NR', u'Friday'),\n",
       " (u'AT', u'an'),\n",
       " (u'NN', u'investigation'),\n",
       " (u'IN', u'of'),\n",
       " (u'NP', u\"Atlanta's\"),\n",
       " (u'JJ', u'recent'),\n",
       " (u'NN', u'primary'),\n",
       " (u'NN', u'election'),\n",
       " (u'VB', u'produced'),\n",
       " (u'``', u'``'),\n",
       " (u'AT', u'no'),\n",
       " (u'NN', u'evidence'),\n",
       " (u\"''\", u\"''\"),\n",
       " (u'CS', u'that'),\n",
       " (u'DT', u'any'),\n",
       " (u'NN', u'irregularities'),\n",
       " (u'VB', u'took'),\n",
       " (u'NN', u'place'),\n",
       " (u'.', u'.'),\n",
       " ('END', 'END'),\n",
       " ('START', 'START'),\n",
       " (u'AT', u'The'),\n",
       " (u'NN', u'jury'),\n",
       " (u'RB', u'further'),\n",
       " (u'VB', u'said'),\n",
       " (u'IN', u'in'),\n",
       " (u'NN', u'term-end'),\n",
       " (u'NN', u'presentments'),\n",
       " (u'CS', u'that'),\n",
       " (u'AT', u'the'),\n",
       " (u'NN', u'City'),\n",
       " (u'JJ', u'Executive'),\n",
       " (u'NN', u'Committee'),\n",
       " (u',', u','),\n",
       " (u'WD', u'which'),\n",
       " (u'HV', u'had'),\n",
       " (u'JJ', u'over-all'),\n",
       " (u'NN', u'charge'),\n",
       " (u'IN', u'of'),\n",
       " (u'AT', u'the'),\n",
       " (u'NN', u'election'),\n",
       " (u',', u','),\n",
       " (u'``', u'``')]"
      ]
     },
     "execution_count": 4,
     "metadata": {},
     "output_type": "execute_result"
    }
   ],
   "source": [
    "brown_tag_words[:50]"
   ]
  },
  {
   "cell_type": "code",
   "execution_count": 5,
   "metadata": {
    "collapsed": true
   },
   "outputs": [],
   "source": [
    "cfd_tagwords = nltk.ConditionalFreqDist(brown_tag_words)\n",
    "cpd_tagwords = nltk.ConditionalProbDist(cfd_tagwords, nltk.MLEProbDist)"
   ]
  },
  {
   "cell_type": "code",
   "execution_count": 6,
   "metadata": {
    "collapsed": false
   },
   "outputs": [
    {
     "name": "stdout",
     "output_type": "stream",
     "text": [
      "<FreqDist with 24469 samples and 227799 outcomes>\n"
     ]
    }
   ],
   "source": [
    "print(cfd_tagwords['NN'])"
   ]
  },
  {
   "cell_type": "code",
   "execution_count": 8,
   "metadata": {
    "collapsed": false
   },
   "outputs": [
    {
     "name": "stdout",
     "output_type": "stream",
     "text": [
      "<MLEProbDist based on 227799 samples>\n"
     ]
    }
   ],
   "source": [
    "print(cpd_tagwords['NN'])"
   ]
  },
  {
   "cell_type": "code",
   "execution_count": 9,
   "metadata": {
    "collapsed": false
   },
   "outputs": [
    {
     "name": "stdout",
     "output_type": "stream",
     "text": [
      "(\"Prob of an adjective(JJ) being 'new' is\", 0.01472344917632025)\n",
      "(\"Prob of a verb(VB) being 'new' is\", 6.042713350943527e-05)\n"
     ]
    }
   ],
   "source": [
    "print(\"Prob of an adjective(JJ) being 'new' is\", cpd_tagwords[\"JJ\"].prob(\"new\"))\n",
    "print(\"Prob of a verb(VB) being 'new' is\", cpd_tagwords[\"VB\"].prob(\"duck\"))"
   ]
  },
  {
   "cell_type": "code",
   "execution_count": 10,
   "metadata": {
    "collapsed": true
   },
   "outputs": [],
   "source": [
    "brown_tags = [tag for (tag, word) in brown_tag_words]"
   ]
  },
  {
   "cell_type": "code",
   "execution_count": 11,
   "metadata": {
    "collapsed": true
   },
   "outputs": [],
   "source": [
    "# make conditional frequency distribution:\n",
    "# count(t{i-1} ti)\n",
    "cfd_tags= nltk.ConditionalFreqDist(nltk.bigrams(brown_tags))\n",
    "# make conditional probability distribution, using\n",
    "# maximum likelihood estimate:\n",
    "# P(ti | t{i-1})\n",
    "cpd_tags = nltk.ConditionalProbDist(cfd_tags, nltk.MLEProbDist)"
   ]
  },
  {
   "cell_type": "code",
   "execution_count": 12,
   "metadata": {
    "collapsed": true
   },
   "outputs": [],
   "source": [
    "distinct_tags = set(brown_tags)\n",
    "\n",
    "sentence = [\"I\", \"want\", \"to\", \"race\"]\n",
    "sentence2 = [\"I\", \"saw\", \"her\", \"duck\"]\n",
    "sentlen = len(sentence)"
   ]
  },
  {
   "cell_type": "code",
   "execution_count": 13,
   "metadata": {
    "collapsed": false
   },
   "outputs": [
    {
     "name": "stdout",
     "output_type": "stream",
     "text": [
      "51\n"
     ]
    }
   ],
   "source": [
    "print(len(distinct_tags))"
   ]
  },
  {
   "cell_type": "code",
   "execution_count": 23,
   "metadata": {
    "collapsed": false
   },
   "outputs": [
    {
     "name": "stdout",
     "output_type": "stream",
     "text": [
      "{u'DO': 0.0, u'BE': 0.0, u'WD': 0.0, u'WQ': 0.0, u'FW': 0.0, u'IN': 0.0, u'HV': 0.0, u'VB': 0.0, u\"''\": 0.0, u')-': 0.0, u'WR': 0.0, u'JJ': 0.0, u'WP': 0.0, u'DT': 0.0, u',-': 0.0, u'NI': 3.3324520848931064e-07, u'PP': 0.014930900689060006, u'RP': 0.0, u'.-': 0.0, u'NN': 1.0580313619573935e-06, u')': 0.0, u'(': 0.0, u'*': 0.0, u',': 0.0, u'.': 0.0, u'TO': 0.0, u'RB': 0.0, u'NP': 1.7319067623793952e-06, u'RN': 0.0, u':': 0.0, u'PN': 0.0, u'``': 0.0, u'AB': 0.0, 'END': 0.0, u'CC': 0.0, u'CD': 0.0, u'*-': 0.0, u'AT': 0.0, u'(-': 0.0, u'CS': 0.0, u'NR': 0.0, u'MD': 0.0, u':-': 0.0, u\"'\": 0.0, u'AP': 0.0, u'--': 0.0, u'OD': 0.0, u'UH': 0.0, u'QL': 0.0, u'EX': 0.0}\n",
      "{u'DO': 'START', u'BE': 'START', u'WD': 'START', u'WQ': 'START', u'FW': 'START', u'IN': 'START', u'HV': 'START', u'VB': 'START', u\"''\": 'START', u')-': 'START', u'WR': 'START', u'JJ': 'START', u'WP': 'START', u'DT': 'START', u',-': 'START', u'NI': 'START', u'PP': 'START', u'RP': 'START', u'.-': 'START', u'NN': 'START', u')': 'START', u'(': 'START', u'*': 'START', u',': 'START', u'.': 'START', u'TO': 'START', u'RB': 'START', u'NP': 'START', u'RN': 'START', u':': 'START', u'PN': 'START', u'``': 'START', u'AB': 'START', 'END': 'START', u'CC': 'START', u'CD': 'START', u'*-': 'START', u'AT': 'START', u'(-': 'START', u'CS': 'START', u'NR': 'START', u'MD': 'START', u':-': 'START', u\"'\": 'START', u'AP': 'START', u'--': 'START', u'OD': 'START', u'UH': 'START', u'QL': 'START', u'EX': 'START'}\n"
     ]
    }
   ],
   "source": [
    "viterbi = []\n",
    "backpointer = []\n",
    "\n",
    "first_viterbi = {} # Inicialización de viterbi_1 v_s(1)\n",
    "first_backpointer = {}\n",
    "for tag in distinct_tags:\n",
    "    if tag == \"START\": continue\n",
    "    first_viterbi[tag] = cpd_tags[\"START\"].prob(tag) * cpd_tagwords[tag].prob(sentence[0])\n",
    "    first_backpointer[tag] = \"START\"\n",
    "print(first_viterbi)\n",
    "print(first_backpointer)"
   ]
  },
  {
   "cell_type": "code",
   "execution_count": 24,
   "metadata": {
    "collapsed": false
   },
   "outputs": [
    {
     "name": "stdout",
     "output_type": "stream",
     "text": [
      "Word I current best two-tag sequence: START PP\n"
     ]
    }
   ],
   "source": [
    "viterbi.append(first_viterbi)\n",
    "backpointer.append(first_backpointer)\n",
    "\n",
    "\n",
    "currbest = max(first_viterbi.keys(), key = lambda tag: first_viterbi[tag])\n",
    "print(\"Word\", sentence[0], \"current best two-tag sequence:\", first_backpointer[currbest], currbest)"
   ]
  },
  {
   "cell_type": "code",
   "execution_count": 25,
   "metadata": {
    "collapsed": false
   },
   "outputs": [
    {
     "name": "stdout",
     "output_type": "stream",
     "text": [
      "Word 'want' current best two-tag sequence: PP VB\n",
      "Word 'to' current best two-tag sequence: VB TO\n",
      "Word 'race' current best two-tag sequence: TO VB\n"
     ]
    }
   ],
   "source": [
    "for wordindex in range(1, len(sentence)):\n",
    "    this_viterbi = {}\n",
    "    this_backpointer = {}\n",
    "    prev_viterbi = viterbi[-1]\n",
    "\n",
    "    for tag in distinct_tags:\n",
    "        if tag == \"START\": continue\n",
    "        best_previous = max(prev_viterbi.keys(), key = lambda prevtag: prev_viterbi[prevtag] *\\\n",
    "                            cpd_tagwords[tag].prob(sentence[wordindex]))\n",
    "        this_viterbi[tag] = prev_viterbi[best_previous] * cpd_tags[best_previous].prob(tag) * \\\n",
    "                            cpd_tagwords[tag].prob(sentence[wordindex])\n",
    "        this_backpointer[tag] = best_previous\n",
    "        \n",
    "    currbest = max(this_viterbi.keys(), key= lambda tag: this_viterbi[tag])\n",
    "    print(\"Word\",\"'\"+ sentence[wordindex] +\"'\", \"current best two-tag sequence:\", this_backpointer[currbest], currbest)\n",
    "    \n",
    "    viterbi.append(this_viterbi)\n",
    "    backpointer.append(this_backpointer)"
   ]
  },
  {
   "cell_type": "code",
   "execution_count": 26,
   "metadata": {
    "collapsed": false
   },
   "outputs": [
    {
     "name": "stdout",
     "output_type": "stream",
     "text": [
      "The sentence was: I want to race \n",
      "The best tag sequence is: START PP VB TO VB END \n",
      "The probability of the best tag sequence: 1.08177664612e-14\n"
     ]
    }
   ],
   "source": [
    "prev_viterbi = viterbi[-1]\n",
    "best_previous = max(prev_viterbi.keys(), key = lambda prevtag: prev_viterbi[prevtag] * cpd_tags[prevtag].prob(\"END\"))\n",
    "prob_tagsequence = prev_viterbi[best_previous] * cpd_tags[best_previous].prob(\"END\")\n",
    "best_tagsequence = [\"END\", best_previous]\n",
    "backpointer.reverse()\n",
    "\n",
    "current_best_tag = best_previous\n",
    "\n",
    "for bp in backpointer:\n",
    "    if current_best_tag == \"START\": continue\n",
    "    best_tagsequence.append(bp[current_best_tag])\n",
    "    current_best_tag = bp[current_best_tag]\n",
    "    \n",
    "best_tagsequence.reverse()\n",
    "print(\"The sentence was:\", end=\" \")\n",
    "for w in sentence: print(w, end = \" \")\n",
    "print(\"\\nThe best tag sequence is:\", end = \" \")\n",
    "for t in best_tagsequence: print(t, end = \" \")\n",
    "print(\"\\nThe probability of the best tag sequence:\", prob_tagsequence)"
   ]
  },
  {
   "cell_type": "code",
   "execution_count": null,
   "metadata": {
    "collapsed": true
   },
   "outputs": [],
   "source": []
  },
  {
   "cell_type": "code",
   "execution_count": null,
   "metadata": {
    "collapsed": true
   },
   "outputs": [],
   "source": []
  },
  {
   "cell_type": "code",
   "execution_count": null,
   "metadata": {
    "collapsed": true
   },
   "outputs": [],
   "source": []
  }
 ],
 "metadata": {
  "kernelspec": {
   "display_name": "Python 2",
   "language": "python",
   "name": "python2"
  },
  "language_info": {
   "codemirror_mode": {
    "name": "ipython",
    "version": 2
   },
   "file_extension": ".py",
   "mimetype": "text/x-python",
   "name": "python",
   "nbconvert_exporter": "python",
   "pygments_lexer": "ipython2",
   "version": "2.7.11"
  }
 },
 "nbformat": 4,
 "nbformat_minor": 0
}
