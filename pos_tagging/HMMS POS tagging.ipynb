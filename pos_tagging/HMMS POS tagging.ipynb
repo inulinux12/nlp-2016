{
 "cells": [
  {
   "cell_type": "markdown",
   "metadata": {},
   "source": [
    "# HMMS POS Tagging"
   ]
  },
  {
   "cell_type": "code",
   "execution_count": 33,
   "metadata": {
    "collapsed": true
   },
   "outputs": [],
   "source": [
    "from __future__ import print_function\n",
    "import nltk\n",
    "import math\n",
    "import numpy as np\n",
    "import sys\n",
    "from nltk.corpus import brown\n",
    "from nltk.corpus import nps_chat\n",
    "from nltk.corpus import conll2000\n",
    "import matplotlib.pylab as plt\n",
    "\n",
    "%matplotlib inline"
   ]
  },
  {
   "cell_type": "code",
   "execution_count": 2,
   "metadata": {
    "collapsed": false
   },
   "outputs": [
    {
     "data": {
      "text/plain": [
       "[[(u'now', 'RB'), (u'im', 'PRP'), (u'left', 'VBD'), (u'with', 'IN'), (u'this', 'DT'), (u'gay', 'JJ'), (u'name', 'NN')], [(u':P', 'UH')], ...]"
      ]
     },
     "execution_count": 2,
     "metadata": {},
     "output_type": "execute_result"
    }
   ],
   "source": [
    "nps_chat.tagged_posts()"
   ]
  },
  {
   "cell_type": "code",
   "execution_count": 3,
   "metadata": {
    "collapsed": false
   },
   "outputs": [
    {
     "data": {
      "text/plain": [
       "[[(u'Confidence', u'NN'), (u'in', u'IN'), (u'the', u'DT'), (u'pound', u'NN'), (u'is', u'VBZ'), (u'widely', u'RB'), (u'expected', u'VBN'), (u'to', u'TO'), (u'take', u'VB'), (u'another', u'DT'), (u'sharp', u'JJ'), (u'dive', u'NN'), (u'if', u'IN'), (u'trade', u'NN'), (u'figures', u'NNS'), (u'for', u'IN'), (u'September', u'NNP'), (u',', u','), (u'due', u'JJ'), (u'for', u'IN'), (u'release', u'NN'), (u'tomorrow', u'NN'), (u',', u','), (u'fail', u'VB'), (u'to', u'TO'), (u'show', u'VB'), (u'a', u'DT'), (u'substantial', u'JJ'), (u'improvement', u'NN'), (u'from', u'IN'), (u'July', u'NNP'), (u'and', u'CC'), (u'August', u'NNP'), (u\"'s\", u'POS'), (u'near-record', u'JJ'), (u'deficits', u'NNS'), (u'.', u'.')], [(u'Chancellor', u'NNP'), (u'of', u'IN'), (u'the', u'DT'), (u'Exchequer', u'NNP'), (u'Nigel', u'NNP'), (u'Lawson', u'NNP'), (u\"'s\", u'POS'), (u'restated', u'VBN'), (u'commitment', u'NN'), (u'to', u'TO'), (u'a', u'DT'), (u'firm', u'NN'), (u'monetary', u'JJ'), (u'policy', u'NN'), (u'has', u'VBZ'), (u'helped', u'VBN'), (u'to', u'TO'), (u'prevent', u'VB'), (u'a', u'DT'), (u'freefall', u'NN'), (u'in', u'IN'), (u'sterling', u'NN'), (u'over', u'IN'), (u'the', u'DT'), (u'past', u'JJ'), (u'week', u'NN'), (u'.', u'.')], ...]"
      ]
     },
     "execution_count": 3,
     "metadata": {},
     "output_type": "execute_result"
    }
   ],
   "source": [
    "conll2000.tagged_sents()"
   ]
  },
  {
   "cell_type": "code",
   "execution_count": 4,
   "metadata": {
    "collapsed": false
   },
   "outputs": [
    {
     "data": {
      "text/plain": [
       "[[(u'The', u'AT'), (u'Fulton', u'NP-TL'), (u'County', u'NN-TL'), (u'Grand', u'JJ-TL'), (u'Jury', u'NN-TL'), (u'said', u'VBD'), (u'Friday', u'NR'), (u'an', u'AT'), (u'investigation', u'NN'), (u'of', u'IN'), (u\"Atlanta's\", u'NP$'), (u'recent', u'JJ'), (u'primary', u'NN'), (u'election', u'NN'), (u'produced', u'VBD'), (u'``', u'``'), (u'no', u'AT'), (u'evidence', u'NN'), (u\"''\", u\"''\"), (u'that', u'CS'), (u'any', u'DTI'), (u'irregularities', u'NNS'), (u'took', u'VBD'), (u'place', u'NN'), (u'.', u'.')], [(u'The', u'AT'), (u'jury', u'NN'), (u'further', u'RBR'), (u'said', u'VBD'), (u'in', u'IN'), (u'term-end', u'NN'), (u'presentments', u'NNS'), (u'that', u'CS'), (u'the', u'AT'), (u'City', u'NN-TL'), (u'Executive', u'JJ-TL'), (u'Committee', u'NN-TL'), (u',', u','), (u'which', u'WDT'), (u'had', u'HVD'), (u'over-all', u'JJ'), (u'charge', u'NN'), (u'of', u'IN'), (u'the', u'AT'), (u'election', u'NN'), (u',', u','), (u'``', u'``'), (u'deserves', u'VBZ'), (u'the', u'AT'), (u'praise', u'NN'), (u'and', u'CC'), (u'thanks', u'NNS'), (u'of', u'IN'), (u'the', u'AT'), (u'City', u'NN-TL'), (u'of', u'IN-TL'), (u'Atlanta', u'NP-TL'), (u\"''\", u\"''\"), (u'for', u'IN'), (u'the', u'AT'), (u'manner', u'NN'), (u'in', u'IN'), (u'which', u'WDT'), (u'the', u'AT'), (u'election', u'NN'), (u'was', u'BEDZ'), (u'conducted', u'VBN'), (u'.', u'.')], ...]"
      ]
     },
     "execution_count": 4,
     "metadata": {},
     "output_type": "execute_result"
    }
   ],
   "source": [
    "brown.tagged_sents()"
   ]
  },
  {
   "cell_type": "markdown",
   "metadata": {},
   "source": [
    "The structure is the same, so we take the POS tags(using only the first two char of the POS tag)"
   ]
  },
  {
   "cell_type": "code",
   "execution_count": 5,
   "metadata": {
    "collapsed": true
   },
   "outputs": [],
   "source": [
    "brown_word_tags = []\n",
    "for sent in brown.tagged_sents():\n",
    "    brown_word_tags.append((\"START\", \"START\"))\n",
    "    brown_word_tags.extend([(tag[:2], word) for (word, tag) in sent])\n",
    "    brown_word_tags.append((\"END\", \"END\"))\n",
    "    \n",
    "conll_word_tags = []    \n",
    "for sent in conll2000.tagged_sents():\n",
    "    conll_word_tags.append((\"START\", \"START\"))\n",
    "    conll_word_tags.extend([(tag[:2], word) for (word, tag) in sent])\n",
    "    conll_word_tags.append((\"END\", \"END\"))\n",
    "    \n",
    "nps_word_tags = []\n",
    "for sent in nps_chat.tagged_posts():\n",
    "    nps_word_tags.append((\"START\", \"START\"))\n",
    "    nps_word_tags.extend([(tag[:2], word) for (word, tag) in sent])\n",
    "    nps_word_tags.append((\"END\", \"END\"))"
   ]
  },
  {
   "cell_type": "markdown",
   "metadata": {},
   "source": [
    "Corpus Stats"
   ]
  },
  {
   "cell_type": "code",
   "execution_count": 6,
   "metadata": {
    "collapsed": false
   },
   "outputs": [
    {
     "name": "stdout",
     "output_type": "stream",
     "text": [
      "Number of instances in Brown corpus:  57340\n",
      "Number of instances in CONL2000 corpus:  10567\n",
      "Number of instances in NPS_chat corpus:  10948\n"
     ]
    }
   ],
   "source": [
    "print(\"Number of instances in Brown corpus: \", len(brown.tagged_sents()))\n",
    "print(\"Number of instances in CONL2000 corpus: \", len(nps_chat.tagged_posts()))\n",
    "print(\"Number of instances in NPS_chat corpus: \", len(conll2000.tagged_sents()))"
   ]
  },
  {
   "cell_type": "markdown",
   "metadata": {},
   "source": [
    "# 1. Training and Testing splits"
   ]
  },
  {
   "cell_type": "code",
   "execution_count": 5,
   "metadata": {
    "collapsed": false
   },
   "outputs": [],
   "source": [
    "from sklearn.cross_validation import ShuffleSplit"
   ]
  },
  {
   "cell_type": "code",
   "execution_count": 6,
   "metadata": {
    "collapsed": false
   },
   "outputs": [],
   "source": [
    "def get_test_sents_tags(test_corpus):\n",
    "    test_sents = []\n",
    "    test_tags = []\n",
    "    for sent in test_corpus:\n",
    "        test_sents.append([word for (word, tag) in sent])\n",
    "        test_tags.append([tag for (word, tag) in sent])\n",
    "    return test_sents, test_tags"
   ]
  },
  {
   "cell_type": "code",
   "execution_count": 7,
   "metadata": {
    "collapsed": false
   },
   "outputs": [],
   "source": [
    "ss = ShuffleSplit(len(brown.tagged_sents()), n_iter=1, test_size=0.1, random_state=0)\n",
    "for train_index, test_index in ss:\n",
    "    train_brown_word_tags = np.array(brown.tagged_sents())[train_index]\n",
    "    test_brown_word_tags = np.array(brown.tagged_sents())[test_index]\n",
    "    brown_test_sents, brown_test_tags = get_test_sents_tags(test_brown_word_tags)\n",
    "    \n",
    "ss = ShuffleSplit(len(conll2000.tagged_sents()), n_iter=1, test_size=0.1, random_state=0)\n",
    "for train_index, test_index in ss:\n",
    "    train_conll_word_tags = np.array(conll2000.tagged_sents())[train_index]\n",
    "    test_conll_word_tags = np.array(conll2000.tagged_sents())[test_index]\n",
    "    conll_test_sents, conll_test_tags = get_test_sents_tags(test_conll_word_tags)\n",
    "    \n",
    "ss = ShuffleSplit(len(nps_chat.tagged_posts()), n_iter=1, test_size=0.1, random_state=0)\n",
    "for train_index, test_index in ss:\n",
    "    train_nps_word_tags = np.array(nps_chat.tagged_posts())[train_index]\n",
    "    test_nps_word_tags = np.array(nps_chat.tagged_posts())[test_index]\n",
    "    nps_test_sents, nps_test_tags = get_test_sents_tags(test_nps_word_tags)"
   ]
  },
  {
   "cell_type": "code",
   "execution_count": 8,
   "metadata": {
    "collapsed": true
   },
   "outputs": [],
   "source": [
    "def get_word_tags(tagged_sents):\n",
    "    word_tags = []\n",
    "    for sent in tagged_sents:\n",
    "        word_tags.append((\"START\", \"START\"))\n",
    "        word_tags.extend([(tag[:2], word) for (word, tag) in sent])\n",
    "        word_tags.append((\"END\", \"END\"))\n",
    "    return word_tags\n",
    "\n",
    "train_brown = get_word_tags(train_brown_word_tags)\n",
    "train_conll = get_word_tags(train_conll_word_tags)\n",
    "train_nps = get_word_tags(train_nps_word_tags)"
   ]
  },
  {
   "cell_type": "code",
   "execution_count": 9,
   "metadata": {
    "collapsed": false
   },
   "outputs": [
    {
     "data": {
      "text/plain": [
       "(51606,)"
      ]
     },
     "execution_count": 9,
     "metadata": {},
     "output_type": "execute_result"
    }
   ],
   "source": [
    "train_brown_word_tags.shape"
   ]
  },
  {
   "cell_type": "markdown",
   "metadata": {},
   "source": [
    "We have already our training/test splits, they were splitted in 80% for training 20% for testing."
   ]
  },
  {
   "cell_type": "code",
   "execution_count": 10,
   "metadata": {
    "collapsed": false
   },
   "outputs": [
    {
     "name": "stdout",
     "output_type": "stream",
     "text": [
      "Number of instances in Brown corpus:  51606\n",
      "Number of instances in CONL2000 corpus:  9853\n",
      "Number of instances in NPS_chat corpus:  9510\n"
     ]
    }
   ],
   "source": [
    "print(\"Number of instances in Brown corpus: \", len(train_brown_word_tags))\n",
    "print(\"Number of instances in CONL2000 corpus: \", len(train_conll_word_tags))\n",
    "print(\"Number of instances in NPS_chat corpus: \", len(train_nps_word_tags))"
   ]
  },
  {
   "cell_type": "code",
   "execution_count": 11,
   "metadata": {
    "collapsed": false
   },
   "outputs": [
    {
     "name": "stdout",
     "output_type": "stream",
     "text": [
      "Number of instances in Brown corpus:  5734\n",
      "Number of instances in CONL2000 corpus:  1095\n",
      "Number of instances in NPS_chat corpus:  1057\n"
     ]
    }
   ],
   "source": [
    "print(\"Number of instances in Brown corpus: \", len(test_brown_word_tags))\n",
    "print(\"Number of instances in CONL2000 corpus: \", len(test_conll_word_tags))\n",
    "print(\"Number of instances in NPS_chat corpus: \", len(test_nps_word_tags))"
   ]
  },
  {
   "cell_type": "markdown",
   "metadata": {},
   "source": [
    "# 2. Corpora model training"
   ]
  },
  {
   "cell_type": "code",
   "execution_count": 12,
   "metadata": {
    "collapsed": false
   },
   "outputs": [],
   "source": [
    "brown_cfd_tagwords = nltk.ConditionalFreqDist(list(train_brown))\n",
    "brown_cpd_tagwords = nltk.ConditionalProbDist(brown_cfd_tagwords, nltk.MLEProbDist)\n",
    "\n",
    "brown_tags = [tag for (tag, word) in train_brown]\n",
    "brown_words = [word for (tag, word) in train_brown]\n",
    "brown_cfd_tags= nltk.ConditionalFreqDist(nltk.bigrams(brown_tags))\n",
    "brown_cpd_tags = nltk.ConditionalProbDist(brown_cfd_tags, nltk.MLEProbDist)\n",
    "\n",
    "brown_distinct_tags = set(brown_tags)\n",
    "brown_word_corpus = set(brown_words)"
   ]
  },
  {
   "cell_type": "code",
   "execution_count": 13,
   "metadata": {
    "collapsed": true
   },
   "outputs": [],
   "source": [
    "conll_cfd_tagwords = nltk.ConditionalFreqDist(list(train_conll))\n",
    "conll_cpd_tagwords = nltk.ConditionalProbDist(conll_cfd_tagwords, nltk.MLEProbDist)\n",
    "\n",
    "conll_tags = [tag for (tag, word) in train_conll]\n",
    "conll_words = [word for (tag, word) in train_conll]\n",
    "conll_cfd_tags= nltk.ConditionalFreqDist(nltk.bigrams(conll_tags))\n",
    "conll_cpd_tags = nltk.ConditionalProbDist(conll_cfd_tags, nltk.MLEProbDist)\n",
    "\n",
    "conll_distinct_tags = set(conll_tags)\n",
    "conll_word_corpus = set(conll_words)"
   ]
  },
  {
   "cell_type": "code",
   "execution_count": 14,
   "metadata": {
    "collapsed": true
   },
   "outputs": [],
   "source": [
    "nps_cfd_tagwords = nltk.ConditionalFreqDist(list(train_nps))\n",
    "nps_cpd_tagwords = nltk.ConditionalProbDist(nps_cfd_tagwords, nltk.MLEProbDist)\n",
    "\n",
    "nps_tags = [tag for (tag, word) in train_nps]\n",
    "nps_words = [word for (tag, word) in train_nps]\n",
    "nps_cfd_tags= nltk.ConditionalFreqDist(nltk.bigrams(nps_tags))\n",
    "nps_cpd_tags = nltk.ConditionalProbDist(nps_cfd_tags, nltk.MLEProbDist)\n",
    "\n",
    "nps_distinct_tags = set(nps_tags)\n",
    "nps_word_corpus = set(nps_words)"
   ]
  },
  {
   "cell_type": "markdown",
   "metadata": {},
   "source": [
    "Function for Viterbi:"
   ]
  },
  {
   "cell_type": "code",
   "execution_count": 15,
   "metadata": {
    "collapsed": true
   },
   "outputs": [],
   "source": [
    "def train_hmms(tags, cpd_tags, cpd_tagwords, cfd_tagwords, word_corpus, sentence):\n",
    "    distinct_tags = tags\n",
    "    #word_corpus = set(brown.words())\n",
    "    sentlen = len(sentence)\n",
    "\n",
    "    viterbi = []\n",
    "    backpointer = [ ]\n",
    "\n",
    "    # Inicializacion de las variables de viterbi_1 v_s(1)\n",
    "    first_viterbi = { }\n",
    "    first_backpointer = { }\n",
    "    for tag in distinct_tags:\n",
    "        # don't record anything for the START tag\n",
    "        if tag == \"START\": continue\n",
    "        first_viterbi[ tag ] = cpd_tags[\"START\"].prob(tag) * cpd_tagwords[tag].prob( sentence[0] )\n",
    "        first_backpointer[ tag ] = \"START\"\n",
    "    viterbi.append(first_viterbi)\n",
    "    backpointer.append(first_backpointer)\n",
    "\n",
    "    currbest = max(first_viterbi.keys(), key = lambda tag: first_viterbi[ tag ])\n",
    "\n",
    "    for wordindex in range(1, len(sentence)):\n",
    "        this_viterbi = { }\n",
    "        this_backpointer = { }\n",
    "        prev_viterbi = viterbi[-1]\n",
    "\n",
    "        for tag in distinct_tags:\n",
    "            if tag == \"START\": continue\n",
    "            if sentence[wordindex] in word_corpus:\n",
    "                p_ws = cpd_tagwords[tag].prob(sentence[wordindex])\n",
    "            else:\n",
    "                p_ws = 1./cfd_tagwords[tag].N()\n",
    "            best_previous = max(prev_viterbi.keys(),\n",
    "                                key = lambda prevtag: \\\n",
    "                                prev_viterbi[ prevtag ] * cpd_tags[prevtag].prob(tag) * \n",
    "                                p_ws)\n",
    "\n",
    "            this_viterbi[ tag ] = prev_viterbi[ best_previous] * \\\n",
    "                cpd_tags[ best_previous ].prob(tag) * p_ws\n",
    "            this_backpointer[ tag ] = best_previous\n",
    "\n",
    "        currbest = max(this_viterbi.keys(), key = lambda tag: this_viterbi[ tag ])\n",
    "        #print( \"Word\", \"'\" + sentence[ wordindex] + \"'\", \"current best two-tag sequence:\", \n",
    "        #      this_backpointer[ currbest], currbest)\n",
    "        viterbi.append(this_viterbi)\n",
    "        backpointer.append(this_backpointer)\n",
    "\n",
    "    prev_viterbi = viterbi[-1]\n",
    "    best_previous = max(prev_viterbi.keys(), key = lambda prevtag:\\\n",
    "                        prev_viterbi[ prevtag ] * cpd_tags[prevtag].prob(\"END\"))\n",
    "\n",
    "    prob_tagsequence = prev_viterbi[best_previous] * cpd_tags[ best_previous].prob(\"END\")\n",
    "\n",
    "    best_tagsequence = [\"END\", best_previous]\n",
    "    backpointer.reverse()\n",
    "\n",
    "    current_best_tag = best_previous\n",
    "    for bp in backpointer:\n",
    "        best_tagsequence.append(bp[current_best_tag])\n",
    "        current_best_tag = bp[current_best_tag]\n",
    "\n",
    "    best_tagsequence.reverse()\n",
    "    #print( \"The sentence was:\", end = \" \")\n",
    "    #for w in sentence: print( w, end = \" \")\n",
    "    #print(\"\\n\")\n",
    "    #print( \"The best tag sequence is:\", end = \" \")\n",
    "    #for t in best_tagsequence: print (t, end = \" \")\n",
    "    #print(\"\\n\")\n",
    "    #print( \"The probability of the best tag sequence is:\", prob_tagsequence)\n",
    "    return prob_tagsequence, best_tagsequence"
   ]
  },
  {
   "cell_type": "markdown",
   "metadata": {},
   "source": [
    "# 3. Evaluation"
   ]
  },
  {
   "cell_type": "code",
   "execution_count": 16,
   "metadata": {
    "collapsed": true
   },
   "outputs": [],
   "source": [
    "def evaluateAccuracy(gs, calc, word_sec, word_dict):\n",
    "    _gs = gs[:]\n",
    "    _calc = calc[1:-1]\n",
    "    nc=kc=nt=kt=0.\n",
    "    for k in range(len(_gs)):\n",
    "        if _gs[k][:2]==_calc[k][:2]:\n",
    "            if word_sec[k] in word_dict:\n",
    "                kc+=1.\n",
    "            else:\n",
    "                nc+=1.\n",
    "        if word_sec[k] in word_dict:\n",
    "            kt+=1.\n",
    "        else:\n",
    "            nt+=1.\n",
    "    return (nc+kc)/(nt+kt),kc,kt,nc,nt"
   ]
  },
  {
   "cell_type": "code",
   "execution_count": 20,
   "metadata": {
    "collapsed": false
   },
   "outputs": [],
   "source": [
    "evaluation_dict = {}\n",
    "prob_dict = {}\n",
    "import itertools\n",
    "datasets = {\"obrown\": [brown_distinct_tags, brown_cpd_tags, brown_cpd_tagwords, brown_cfd_tagwords, brown_word_corpus],\\\n",
    "           \"conll2000\": [conll_distinct_tags, conll_cpd_tags, conll_cpd_tagwords, conll_cfd_tagwords, conll_word_corpus],\\\n",
    "           \"nps\": [nps_distinct_tags, nps_cpd_tags, nps_cpd_tagwords, nps_cfd_tagwords, nps_word_corpus]}\n",
    "test_eval = {\"test_anps\": [nps_test_sents, nps_test_tags],\\\n",
    "             \"test_brown\": [brown_test_sents, brown_test_tags],\\\n",
    "             \"test_conll\": [conll_test_sents, conll_test_tags]}\n",
    "combinations = list(itertools.product(sorted(datasets.keys()), sorted(test_eval.keys())))"
   ]
  },
  {
   "cell_type": "code",
   "execution_count": 21,
   "metadata": {
    "collapsed": false
   },
   "outputs": [
    {
     "data": {
      "text/plain": [
       "[('conll2000', 'test_anps'),\n",
       " ('conll2000', 'test_brown'),\n",
       " ('conll2000', 'test_conll'),\n",
       " ('nps', 'test_anps'),\n",
       " ('nps', 'test_brown'),\n",
       " ('nps', 'test_conll'),\n",
       " ('obrown', 'test_anps'),\n",
       " ('obrown', 'test_brown'),\n",
       " ('obrown', 'test_conll')]"
      ]
     },
     "execution_count": 21,
     "metadata": {},
     "output_type": "execute_result"
    }
   ],
   "source": [
    "combinations"
   ]
  },
  {
   "cell_type": "code",
   "execution_count": 22,
   "metadata": {
    "collapsed": false
   },
   "outputs": [
    {
     "name": "stdout",
     "output_type": "stream",
     "text": [
      "Samples processed:  0\n",
      "Samples processed:  500\n",
      "Samples processed:  1000\n",
      "Accuracy for conll2000 and testdata test_anps is 0.262230812636\n",
      "Samples processed:  1500\n",
      "Samples processed:  2000\n",
      "Samples processed:  2500\n",
      "Samples processed:  3000\n",
      "Samples processed:  3500\n",
      "Samples processed:  4000\n",
      "Samples processed:  4500\n",
      "Samples processed:  5000\n",
      "Samples processed:  5500\n",
      "Samples processed:  6000\n",
      "Samples processed:  6500\n",
      "Accuracy for conll2000 and testdata test_brown is 0.504339834609\n",
      "Samples processed:  7000\n",
      "Samples processed:  7500\n",
      "Accuracy for conll2000 and testdata test_conll is 0.872557119489\n",
      "Samples processed:  8000\n",
      "Samples processed:  8500\n",
      "Accuracy for nps and testdata test_anps is 0.868050812969\n",
      "Samples processed:  9000\n",
      "Samples processed:  9500\n",
      "Samples processed:  10000\n",
      "Samples processed:  10500\n",
      "Samples processed:  11000\n",
      "Samples processed:  11500\n",
      "Samples processed:  12000\n",
      "Samples processed:  12500\n",
      "Samples processed:  13000\n",
      "Samples processed:  13500\n",
      "Samples processed:  14000\n",
      "Samples processed:  14500\n",
      "Accuracy for nps and testdata test_brown is 0.257643360476\n",
      "Samples processed:  15000\n",
      "Samples processed:  15500\n",
      "Accuracy for nps and testdata test_conll is 0.284527391966\n",
      "Samples processed:  16000\n",
      "Samples processed:  16500\n",
      "Accuracy for obrown and testdata test_anps is 0.15839660461\n",
      "Samples processed:  17000\n",
      "Samples processed:  17500\n",
      "Samples processed:  18000\n",
      "Samples processed:  18500\n",
      "Samples processed:  19000\n",
      "Samples processed:  19500\n",
      "Samples processed:  20000\n",
      "Samples processed:  20500\n",
      "Samples processed:  21000\n",
      "Samples processed:  21500\n",
      "Samples processed:  22000\n",
      "Samples processed:  22500\n",
      "Accuracy for obrown and testdata test_brown is 0.917736878606\n",
      "Samples processed:  23000\n",
      "Samples processed:  23500\n",
      "Accuracy for obrown and testdata test_conll is 0.513090738183\n"
     ]
    }
   ],
   "source": [
    "j = 0\n",
    "for dataset, test_dataset in combinations:\n",
    "    distinct_tags, cpd_tags, cpd_tagwords, cfd_tagwords, word_corpus = datasets[dataset]\n",
    "    test_sents, test_tags = test_eval[test_dataset]\n",
    "    accuracies = []\n",
    "    probabilities = []\n",
    "    for i in range(len(test_sents)):\n",
    "        prob_tagsequence, best_tagsequence = train_hmms(distinct_tags, cpd_tags, cpd_tagwords, cfd_tagwords, word_corpus, test_sents[i])\n",
    "        accuracy,_,_,_,_ = evaluateAccuracy(test_tags[i], best_tagsequence, test_sents[i], word_corpus)\n",
    "        accuracies.append(accuracy)\n",
    "        probabilities.append(prob_tagsequence)\n",
    "        if j%500 == 0: print('Samples processed: ', j)\n",
    "        j += 1\n",
    "    evaluation_dict[dataset, test_dataset] = accuracies\n",
    "    prob_dict[dataset, test_dataset] = probabilities\n",
    "    print('Accuracy for {data} and testdata {test} is {acc}'.format(data=dataset, test=test_dataset, acc=np.mean(accuracies)))"
   ]
  },
  {
   "cell_type": "code",
   "execution_count": 24,
   "metadata": {
    "collapsed": false
   },
   "outputs": [
    {
     "data": {
      "text/plain": [
       "[('conll2000', 'test_conll'),\n",
       " ('nps', 'test_brown'),\n",
       " ('nps', 'test_anps'),\n",
       " ('obrown', 'test_brown'),\n",
       " ('nps', 'test_conll'),\n",
       " ('conll2000', 'test_brown'),\n",
       " ('obrown', 'test_conll'),\n",
       " ('obrown', 'test_anps'),\n",
       " ('conll2000', 'test_anps')]"
      ]
     },
     "execution_count": 24,
     "metadata": {},
     "output_type": "execute_result"
    }
   ],
   "source": [
    "evaluation_dict.keys()"
   ]
  },
  {
   "cell_type": "code",
   "execution_count": 39,
   "metadata": {
    "collapsed": false
   },
   "outputs": [
    {
     "data": {
      "text/plain": [
       "['test_anps', 'test_brown', 'test_conll']"
      ]
     },
     "execution_count": 39,
     "metadata": {},
     "output_type": "execute_result"
    }
   ],
   "source": [
    "sorted(test_eval.keys())"
   ]
  },
  {
   "cell_type": "markdown",
   "metadata": {},
   "source": [
    "# 4. Analysis"
   ]
  },
  {
   "cell_type": "code",
   "execution_count": 44,
   "metadata": {
    "collapsed": false
   },
   "outputs": [
    {
     "data": {
      "image/png": "[encoded data removed]",
      "text/plain": [
       "<matplotlib.figure.Figure at 0x7f3100025f50>"
      ]
     },
     "metadata": {},
     "output_type": "display_data"
    }
   ],
   "source": [
    "N = 3\n",
    "sorted(datasets.keys()), sorted(test_eval.keys())\n",
    "men_conll = [np.mean(evaluation_dict['conll2000',y]) for y in sorted(test_eval.keys())]\n",
    "men_brown = [np.mean(evaluation_dict['obrown',y]) for y in sorted(test_eval.keys())]\n",
    "men_nps = [np.mean(evaluation_dict['nps',y]) for y in sorted(test_eval.keys())]\n",
    "\n",
    "ind = np.arange(N)  # the x locations for the groups\n",
    "width = 0.25       # the width of the bars\n",
    "\n",
    "fig, ax = plt.subplots(figsize=(8, 6))\n",
    "rects1 = ax.bar(ind, men_conll, width, color='r')\n",
    "rects2 = ax.bar(ind+width, men_brown, width, color='orange')\n",
    "rects3 = ax.bar(ind+2*width, men_nps, width, color='y')\n",
    "\n",
    "# add some text for labels, title and axes ticks\n",
    "ax.set_ylabel('Average Accuracy')\n",
    "ax.set_xlabel('Testing Sets')\n",
    "ax.set_title('Average Accuracy for HMM POS taggers')\n",
    "ax.set_xticks(ind + width)\n",
    "ax.set_xticklabels(sorted(test_eval.keys()))\n",
    "\n",
    "ax.legend((rects1[0], rects2[0], rects3[0]), ('ConLL', 'Brown', 'NPS_Chat'))\n",
    "plt.savefig('foo.png', bbox_inches='tight')\n",
    "plt.show()"
   ]
  },
  {
   "cell_type": "markdown",
   "metadata": {},
   "source": [
    "# 5. Learning Curves"
   ]
  },
  {
   "cell_type": "code",
   "execution_count": 45,
   "metadata": {
    "collapsed": true
   },
   "outputs": [],
   "source": [
    "def get_word_tags(tagged_sents):\n",
    "    word_tags = []\n",
    "    for sent in tagged_sents:\n",
    "        word_tags.append((\"START\", \"START\"))\n",
    "        word_tags.extend([(tag[:2], word) for (word, tag) in sent])\n",
    "        word_tags.append((\"END\", \"END\"))\n",
    "    return word_tags\n",
    "indexes = [int(x) for x in np.linspace(0, len(train_conll_word_tags), 6)]\n",
    "train_conll1 = get_word_tags(train_conll_word_tags[:indexes[1]])\n",
    "train_conll2 = get_word_tags(train_conll_word_tags[:indexes[2]])\n",
    "train_conll3 = get_word_tags(train_conll_word_tags[:indexes[3]])\n",
    "train_conll4 = get_word_tags(train_conll_word_tags[:indexes[4]])\n",
    "train_conll5 = get_word_tags(train_conll_word_tags[:indexes[5]])"
   ]
  },
  {
   "cell_type": "code",
   "execution_count": 46,
   "metadata": {
    "collapsed": false
   },
   "outputs": [
    {
     "name": "stdout",
     "output_type": "stream",
     "text": [
      "Size of first chunk:  50333\n",
      "Size of second chunk:  101354\n",
      "Size of third chunk:  152266\n",
      "Size of fourth chunk:  202987\n",
      "Size of fifth chunk:  252700\n"
     ]
    }
   ],
   "source": [
    "print(\"Size of first chunk: \", len(train_conll1))\n",
    "print(\"Size of second chunk: \", len(train_conll2))\n",
    "print(\"Size of third chunk: \", len(train_conll3))\n",
    "print(\"Size of fourth chunk: \", len(train_conll4))\n",
    "print(\"Size of fifth chunk: \", len(train_conll5))"
   ]
  },
  {
   "cell_type": "code",
   "execution_count": 47,
   "metadata": {
    "collapsed": true
   },
   "outputs": [],
   "source": [
    "def train_model(train_brown, test_sents, test_tags, index):\n",
    "    #Train for different training sizes\n",
    "    cfd_tagwords = nltk.ConditionalFreqDist(list(train_brown))\n",
    "    cpd_tagwords = nltk.ConditionalProbDist(cfd_tagwords, nltk.MLEProbDist)\n",
    "\n",
    "    tags = [tag for (tag, word) in train_brown]\n",
    "    words = [word for (tag, word) in train_brown]\n",
    "    cfd_tags= nltk.ConditionalFreqDist(nltk.bigrams(tags))\n",
    "    cpd_tags = nltk.ConditionalProbDist(cfd_tags, nltk.MLEProbDist)\n",
    "\n",
    "    distinct_tags = set(tags)\n",
    "    word_corpus = set(words)\n",
    "    accuracies = []\n",
    "    probabilities = []\n",
    "    j = 0\n",
    "    for i in range(len(test_sents)):\n",
    "        prob_tagsequence, best_tagsequence = train_hmms(distinct_tags, cpd_tags, cpd_tagwords, cfd_tagwords, word_corpus, test_sents[i])\n",
    "        accuracy,_,_,_,_ = evaluateAccuracy(test_tags[i], best_tagsequence, test_sents[i], word_corpus)\n",
    "        accuracies.append(accuracy)\n",
    "        probabilities.append(prob_tagsequence)\n",
    "        if j%500 == 0: print('Samples processed: ', j)\n",
    "        j += 1\n",
    "    print('Accuracy for {data} is {acc}'.format(data=index, acc=np.mean(accuracies)))\n",
    "    return accuracies, probabilities"
   ]
  },
  {
   "cell_type": "code",
   "execution_count": 49,
   "metadata": {
    "collapsed": false
   },
   "outputs": [
    {
     "name": "stdout",
     "output_type": "stream",
     "text": [
      "Samples processed:  0\n",
      "Samples processed:  500\n",
      "Samples processed:  1000\n",
      "Accuracy for 0 is 0.748952902465\n",
      "Samples processed:  0\n",
      "Samples processed:  500\n",
      "Samples processed:  1000\n",
      "Accuracy for 1 is 0.812782542999\n",
      "Samples processed:  0\n",
      "Samples processed:  500\n",
      "Samples processed:  1000\n",
      "Accuracy for 2 is 0.848775301334\n",
      "Samples processed:  0\n",
      "Samples processed:  500\n",
      "Samples processed:  1000\n",
      "Accuracy for 3 is 0.863123750078\n",
      "Samples processed:  0\n",
      "Samples processed:  500\n",
      "Samples processed:  1000\n",
      "Accuracy for 4 is 0.872557119489\n"
     ]
    }
   ],
   "source": [
    "evaluation_dict = {}\n",
    "prob_dict = {}\n",
    "\n",
    "accuracies, probabilities = train_model(train_conll1, conll_test_sents, conll_test_tags, 0)\n",
    "evaluation_dict[0] = accuracies\n",
    "prob_dict[0] = probabilities\n",
    "accuracies, probabilities = train_model(train_conll2, conll_test_sents, conll_test_tags, 1)\n",
    "evaluation_dict[1] = accuracies\n",
    "prob_dict[1] = probabilities\n",
    "accuracies, probabilities = train_model(train_conll3, conll_test_sents, conll_test_tags, 2)\n",
    "evaluation_dict[2] = accuracies\n",
    "prob_dict[2] = probabilities\n",
    "accuracies, probabilities = train_model(train_conll4, conll_test_sents, conll_test_tags, 3)\n",
    "evaluation_dict[3] = accuracies\n",
    "prob_dict[3] = probabilities\n",
    "accuracies, probabilities = train_model(train_conll5, conll_test_sents, conll_test_tags, 4)\n",
    "evaluation_dict[4] = accuracies\n",
    "prob_dict[4] = probabilities"
   ]
  },
  {
   "cell_type": "code",
   "execution_count": 58,
   "metadata": {
    "collapsed": false
   },
   "outputs": [
    {
     "name": "stdout",
     "output_type": "stream",
     "text": [
      "Samples processed:  0\n",
      "Samples processed:  500\n",
      "Samples processed:  1000\n",
      "Accuracy for 0 is 0.763277514822\n",
      "Samples processed:  0\n",
      "Samples processed:  500\n",
      "Samples processed:  1000\n",
      "Accuracy for 1 is 0.811603045533\n",
      "Samples processed:  0\n",
      "Samples processed:  500\n",
      "Samples processed:  1000\n",
      "Accuracy for 2 is 0.844340513695\n",
      "Samples processed:  0\n",
      "Samples processed:  500\n",
      "Samples processed:  1000\n",
      "Accuracy for 3 is 0.852917817408\n",
      "Samples processed:  0\n",
      "Samples processed:  500\n",
      "Samples processed:  1000\n",
      "Accuracy for 4 is 0.868050812969\n"
     ]
    }
   ],
   "source": [
    "nps_indexes = [int(x) for x in np.linspace(0, len(train_nps_word_tags), 6)]\n",
    "train_nps1 = get_word_tags(train_nps_word_tags[:nps_indexes[1]])\n",
    "train_nps2 = get_word_tags(train_nps_word_tags[:nps_indexes[2]])\n",
    "train_nps3 = get_word_tags(train_nps_word_tags[:nps_indexes[3]])\n",
    "train_nps4 = get_word_tags(train_nps_word_tags[:nps_indexes[4]])\n",
    "train_nps5 = get_word_tags(train_nps_word_tags[:nps_indexes[5]])\n",
    "\n",
    "evaluation_dict_nps = {}\n",
    "prob_dict_nps = {}\n",
    "\n",
    "accuracies, probabilities = train_model(train_nps1, nps_test_sents, nps_test_tags, 0)\n",
    "evaluation_dict_nps[0] = accuracies\n",
    "prob_dict_nps[0] = probabilities\n",
    "accuracies, probabilities = train_model(train_nps2, nps_test_sents, nps_test_tags, 1)\n",
    "evaluation_dict_nps[1] = accuracies\n",
    "prob_dict_nps[1] = probabilities\n",
    "accuracies, probabilities = train_model(train_nps3, nps_test_sents, nps_test_tags, 2)\n",
    "evaluation_dict_nps[2] = accuracies\n",
    "prob_dict_nps[2] = probabilities\n",
    "accuracies, probabilities = train_model(train_nps4, nps_test_sents, nps_test_tags, 3)\n",
    "evaluation_dict_nps[3] = accuracies\n",
    "prob_dict_nps[3] = probabilities\n",
    "accuracies, probabilities = train_model(train_nps5, nps_test_sents, nps_test_tags, 4)\n",
    "evaluation_dict_nps[4] = accuracies\n",
    "prob_dict_nps[4] = probabilities"
   ]
  },
  {
   "cell_type": "markdown",
   "metadata": {},
   "source": [
    "**Additionally we have run separetaly these curves for Brown corpus in order to save time. We have copied them here so we can compare them with the others HMM and their corresponding test sets.**"
   ]
  },
  {
   "cell_type": "code",
   "execution_count": 63,
   "metadata": {
    "collapsed": true
   },
   "outputs": [],
   "source": [
    "scores_brown = [0.839853634683, 0.883960873057, 0.901223829562, 0.910501021301, 0.917736878606]\n",
    "indexes = ('20%', '40%', '60%', '80%', '100%')"
   ]
  },
  {
   "cell_type": "code",
   "execution_count": 64,
   "metadata": {
    "collapsed": false
   },
   "outputs": [
    {
     "data": {
      "image/png": "[encoded data removed]",
      "text/plain": [
       "<matplotlib.figure.Figure at 0x7f30ec1e31d0>"
      ]
     },
     "metadata": {},
     "output_type": "display_data"
    }
   ],
   "source": [
    "scores_conll = [np.mean(evaluation_dict[x]) for x in range(5)]\n",
    "scores_nps = [np.mean(evaluation_dict_nps[x]) for x in range(5)]\n",
    "plt.figure(figsize=(8, 6))\n",
    "#for dataset in datasets:\n",
    "#scores = list_pearson[dataset]\n",
    "line1, = plt.plot(scores_conll, label=\"CoNLL\")\n",
    "line2, = plt.plot(scores_nps, label=\"NPS\")\n",
    "line3, = plt.plot(scores_brown, label=\"Brown\")\n",
    "plt.xlabel('Training Size')\n",
    "plt.ylabel('Accuracy')\n",
    "plt.xticks(np.arange(len(indexes)), indexes, rotation=45)\n",
    "plt.title('Learning curves for varying Training Sizes')\n",
    "plt.legend(bbox_to_anchor=(0.9, 0.75), bbox_transform=plt.gcf().transFigure)\n",
    "plt.savefig('foo1.png', bbox_inches='tight')\n",
    "plt.show()"
   ]
  },
  {
   "cell_type": "code",
   "execution_count": null,
   "metadata": {
    "collapsed": true
   },
   "outputs": [],
   "source": []
  }
 ],
 "metadata": {
  "kernelspec": {
   "display_name": "Python 2",
   "language": "python",
   "name": "python2"
  },
  "language_info": {
   "codemirror_mode": {
    "name": "ipython",
    "version": 2
   },
   "file_extension": ".py",
   "mimetype": "text/x-python",
   "name": "python",
   "nbconvert_exporter": "python",
   "pygments_lexer": "ipython2",
   "version": "2.7.11"
  }
 },
 "nbformat": 4,
 "nbformat_minor": 0
}
